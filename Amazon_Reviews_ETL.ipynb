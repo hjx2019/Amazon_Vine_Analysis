{
  "cells": [
    {
      "cell_type": "code",
      "execution_count": 37,
      "metadata": {
        "colab": {
          "base_uri": "https://localhost:8080/"
        },
        "id": "V58rxea0HqSa",
        "outputId": "4275c4c5-73d1-4b6d-b7df-cf238dfc57c7"
      },
      "outputs": [
        {
          "name": "stdout",
          "output_type": "stream",
          "text": [
            "\r0% [Working]\r            \rHit:1 https://cloud.r-project.org/bin/linux/ubuntu bionic-cran40/ InRelease\n",
            "\r0% [Connecting to archive.ubuntu.com (91.189.88.142)] [Waiting for headers] [Co\r0% [1 InRelease gpgv 3,626 B] [Connecting to archive.ubuntu.com (91.189.88.142)\r                                                                               \rGet:2 http://security.ubuntu.com/ubuntu bionic-security InRelease [88.7 kB]\n",
            "\r0% [1 InRelease gpgv 3,626 B] [Waiting for headers] [2 InRelease 8,378 B/88.7 k\r                                                                               \rIgn:3 https://developer.download.nvidia.com/compute/cuda/repos/ubuntu1804/x86_64  InRelease\n",
            "\r0% [1 InRelease gpgv 3,626 B] [Waiting for headers] [2 InRelease 63.4 kB/88.7 k\r0% [1 InRelease gpgv 3,626 B] [Waiting for headers] [Waiting for headers] [Wait\r                                                                               \rHit:4 http://ppa.launchpad.net/c2d4u.team/c2d4u4.0+/ubuntu bionic InRelease\n",
            "Hit:5 http://archive.ubuntu.com/ubuntu bionic InRelease\n",
            "Ign:6 https://developer.download.nvidia.com/compute/machine-learning/repos/ubuntu1804/x86_64  InRelease\n",
            "Hit:7 https://developer.download.nvidia.com/compute/cuda/repos/ubuntu1804/x86_64  Release\n",
            "Hit:8 https://developer.download.nvidia.com/compute/machine-learning/repos/ubuntu1804/x86_64  Release\n",
            "Get:9 http://archive.ubuntu.com/ubuntu bionic-updates InRelease [88.7 kB]\n",
            "Hit:10 http://ppa.launchpad.net/cran/libgit2/ubuntu bionic InRelease\n",
            "Hit:11 http://ppa.launchpad.net/deadsnakes/ppa/ubuntu bionic InRelease\n",
            "Get:12 http://security.ubuntu.com/ubuntu bionic-security/main amd64 Packages [2,398 kB]\n",
            "Get:13 http://archive.ubuntu.com/ubuntu bionic-backports InRelease [74.6 kB]\n",
            "Hit:14 http://ppa.launchpad.net/graphics-drivers/ppa/ubuntu bionic InRelease\n",
            "Get:17 http://archive.ubuntu.com/ubuntu bionic-updates/main amd64 Packages [2,835 kB]\n",
            "Fetched 5,485 kB in 3s (2,125 kB/s)\n",
            "Reading package lists... Done\n"
          ]
        }
      ],
      "source": [
        "import os\n",
        "# Find the latest version of spark 3.0 from http://www.apache.org/dist/spark/ and enter as the spark version\n",
        "# For example:\n",
        "# spark_version = 'spark-3.0.3'\n",
        "spark_version = 'spark-3.0.3'\n",
        "os.environ['SPARK_VERSION']=spark_version\n",
        "\n",
        "# Install Spark and Java\n",
        "!apt-get update\n",
        "!apt-get install openjdk-11-jdk-headless -qq > /dev/null\n",
        "!wget -q http://www.apache.org/dist/spark/$SPARK_VERSION/$SPARK_VERSION-bin-hadoop2.7.tgz\n",
        "!tar xf $SPARK_VERSION-bin-hadoop2.7.tgz\n",
        "!pip install -q findspark\n",
        "\n",
        "# Set Environment Variables\n",
        "import os\n",
        "os.environ[\"JAVA_HOME\"] = \"/usr/lib/jvm/java-11-openjdk-amd64\"\n",
        "os.environ[\"SPARK_HOME\"] = f\"/content/{spark_version}-bin-hadoop2.7\"\n",
        "\n",
        "# Start a SparkSession\n",
        "import findspark\n",
        "findspark.init()"
      ]
    },
    {
      "cell_type": "code",
      "execution_count": 38,
      "metadata": {
        "colab": {
          "base_uri": "https://localhost:8080/"
        },
        "id": "_xKwTpATHqSe",
        "outputId": "6d734053-94ec-46d1-a563-9980e064224f"
      },
      "outputs": [
        {
          "name": "stdout",
          "output_type": "stream",
          "text": [
            "--2021-10-28 15:54:01--  https://jdbc.postgresql.org/download/postgresql-42.2.16.jar\n",
            "Resolving jdbc.postgresql.org (jdbc.postgresql.org)... 72.32.157.228, 2001:4800:3e1:1::228\n",
            "Connecting to jdbc.postgresql.org (jdbc.postgresql.org)|72.32.157.228|:443... connected.\n",
            "HTTP request sent, awaiting response... 200 OK\n",
            "Length: 1002883 (979K) [application/java-archive]\n",
            "Saving to: ‘postgresql-42.2.16.jar.1’\n",
            "\n",
            "postgresql-42.2.16. 100%[===================>] 979.38K  5.75MB/s    in 0.2s    \n",
            "\n",
            "2021-10-28 15:54:02 (5.75 MB/s) - ‘postgresql-42.2.16.jar.1’ saved [1002883/1002883]\n",
            "\n"
          ]
        }
      ],
      "source": [
        "# Download the Postgres driver that will allow Spark to interact with Postgres.\n",
        "!wget https://jdbc.postgresql.org/download/postgresql-42.2.16.jar"
      ]
    },
    {
      "cell_type": "code",
      "execution_count": 39,
      "metadata": {
        "id": "MMqDAjVS0KN9"
      },
      "outputs": [],
      "source": [
        "from pyspark.sql import SparkSession\n",
        "spark = SparkSession.builder.appName(\"M16-Amazon-Challenge\").config(\"spark.driver.extraClassPath\",\"/content/postgresql-42.2.16.jar\").getOrCreate()"
      ]
    },
    {
      "cell_type": "markdown",
      "metadata": {
        "id": "cyBsySGuY-9V"
      },
      "source": [
        "### Load Amazon Data into Spark DataFrame"
      ]
    },
    {
      "cell_type": "code",
      "execution_count": 40,
      "metadata": {
        "colab": {
          "base_uri": "https://localhost:8080/"
        },
        "id": "CtCmBhQJY-9Z",
        "outputId": "34951a7a-4c20-4414-cff6-f4487b348fbc"
      },
      "outputs": [
        {
          "name": "stdout",
          "output_type": "stream",
          "text": [
            "+-----------+-----------+--------------+----------+--------------+--------------------+------------------+-----------+-------------+-----------+----+-----------------+--------------------+--------------------+-----------+\n",
            "|marketplace|customer_id|     review_id|product_id|product_parent|       product_title|  product_category|star_rating|helpful_votes|total_votes|vine|verified_purchase|     review_headline|         review_body|review_date|\n",
            "+-----------+-----------+--------------+----------+--------------+--------------------+------------------+-----------+-------------+-----------+----+-----------------+--------------------+--------------------+-----------+\n",
            "|         US|     179886| RY01SAV7HZ8QO|B00NTI0CQ2|     667358431|Aketek 1080P LED ...|Home Entertainment|          4|            0|          0|   N|                Y|good enough for m...|not the best pict...| 2015-08-31|\n",
            "|         US|   37293769|R1XX8SDGJ4MZ4L|B00BUCLVZU|     621695622|TiVo Mini with IR...|Home Entertainment|          5|            0|          0|   N|                N|Tell the Cable Co...|Not only do my Ti...| 2015-08-31|\n",
            "|         US|    8332121|R149Q3B5L33NN5|B00RBX9D5W|     143071132|Apple TV MD199LL/...|Home Entertainment|          5|            0|          0|   N|                Y|    Works perfectly!|Works perfectly! ...| 2015-08-31|\n",
            "|         US|   47054962|R2ZVD69Z6KPJ4O|B00UJ3IULO|     567816707|New Roku 3 6.5 Fo...|Home Entertainment|          1|            0|          2|   N|                Y|It doesn't work. ...|It doesn't work. ...| 2015-08-31|\n",
            "|         US|   23413911|R1DIKG2G33ZLNP|B0037UCTXG|     909557698|Generic DVI-I Dua...|Home Entertainment|          4|            0|          0|   N|                Y|         As pictured|I received the it...| 2015-08-31|\n",
            "|         US|    4417771|R3L6FGKAW0EYFI|B004N866SU|     414565179|Samsung 3D LED HD...|Home Entertainment|          1|            1|          1|   N|                N|Only lasts 3-4 ye...|I bought this TV ...| 2015-08-31|\n",
            "|         US|   47900707| RAO0QZH5VC6VI|B00JE6AOJS|     798450889|Jiake Wireless Bl...|Home Entertainment|          1|            0|          0|   N|                Y|            One Star|    Waste of $$$$$$$| 2015-08-31|\n",
            "|         US|   34112894|R25IK0UAHWNB22|B00COL0B7A|     777554234|3pcs/lot 3in1 3ft...|Home Entertainment|          3|            0|          0|   N|                Y|         Three Stars|Nice but all thre...| 2015-08-31|\n",
            "|         US|   20691979|R2A9IHKZMTMAL1|B00QHLSKOE|     885228855|Matricom G-Box Q²...|Home Entertainment|          5|            1|          2|   N|                Y|Yes...exactly wha...|Oh, yeah...doesn'...| 2015-08-31|\n",
            "|         US|   25983343| R5XVKTHL6SITI|B00UNL2MUW|     164482798|VIZIO S2920W-C0B ...|Home Entertainment|          5|            0|          0|   N|                Y|Fantastic sound. ...|Fantastic sound. ...| 2015-08-31|\n",
            "|         US|   35816068|R2QZZOSTDDY1IE|B00RIC9JB4|     184834831|Hitachi 49\" Class...|Home Entertainment|          3|            3|          6|   N|                Y|               risky|Great tv but Tv d...| 2015-08-31|\n",
            "|         US|   10628020|R38CUDCFPSNYTD|B00HPMCO6O|     444378461|Sony BDPS5200 3D ...|Home Entertainment|          5|            0|          0|   N|                Y|          Five Stars|EXCELLENT SERVICE...| 2015-08-31|\n",
            "|         US|    9059625| RM6ZR6NH052YH|B004QGXWS6|     770226547|Sylvania 7-Inch T...|Home Entertainment|          3|            1|          2|   N|                Y|They worked great...|They worked great...| 2015-08-31|\n",
            "|         US|    2681147| RUQK5N4WH8UN8|B00FO12XY6|     448806082|Roku HD Streaming...|Home Entertainment|          5|            0|          0|   N|                Y|          Five Stars|Smooth and worked...| 2015-08-31|\n",
            "|         US|   33449922|R21LWSBQWWJYZ3|B00BD7UVO4|     374427271|LG Electronics BP...|Home Entertainment|          5|            0|          0|   N|                Y|          Five Stars|     Works very well| 2015-08-31|\n",
            "|         US|   43069144| R8W5S53RQ2DF7|B00TRQPEYK|     614207013|LG Electronics LF...|Home Entertainment|          5|            0|          0|   N|                Y|               LG TV|The TV arrived qu...| 2015-08-31|\n",
            "|         US|   46780686|R3ENME3JQBWXZS|B005STXQG8|     689442799|SquareTrade TV Pr...|Home Entertainment|          5|            0|          1|   N|                Y|          Five Stars|well worth the mo...| 2015-08-31|\n",
            "|         US|   49037595|R3URL5K7DHHYK7|B00BEL11RA|     910670994|Cambridge - Azur ...|Home Entertainment|          5|            1|          1|   N|                Y|            Love it.|Great Blu-ray pla...| 2015-08-31|\n",
            "|         US|   27868511|R22YISZKS35YZX|B00QHLSKOE|     885228855|Matricom G-Box Q²...|Home Entertainment|          5|            2|          3|   N|                Y|If your on the fe...|Great media cente...| 2015-08-31|\n",
            "|         US|    3004043|R3IIOLWHWC297U|B00MWCJ8VQ|     946374680|Roku 3500XB Strea...|Home Entertainment|          5|            0|          0|   N|                Y|          Five Stars|       great product| 2015-08-31|\n",
            "+-----------+-----------+--------------+----------+--------------+--------------------+------------------+-----------+-------------+-----------+----+-----------------+--------------------+--------------------+-----------+\n",
            "only showing top 20 rows\n",
            "\n"
          ]
        }
      ],
      "source": [
        "from pyspark import SparkFiles\n",
        "url = \"https://s3.amazonaws.com/amazon-reviews-pds/tsv/amazon_reviews_us_Home_Entertainment_v1_00.tsv.gz\"\n",
        "spark.sparkContext.addFile(url)\n",
        "df = spark.read.option(\"encoding\", \"UTF-8\").csv(SparkFiles.get(\"amazon_reviews_us_Home_Entertainment_v1_00.tsv.gz\"), sep=\"\\t\", header=True, inferSchema=True)\n",
        "df.show()"
      ]
    },
    {
      "cell_type": "markdown",
      "metadata": {
        "id": "2yUSe55VY-9t"
      },
      "source": [
        "### Create DataFrames to match tables"
      ]
    },
    {
      "cell_type": "code",
      "execution_count": 41,
      "metadata": {
        "id": "C8REmY1aY-9u"
      },
      "outputs": [],
      "source": [
        "from pyspark.sql.functions import to_date\n",
        "# Read in the Review dataset as a DataFrame\n"
      ]
    },
    {
      "cell_type": "code",
      "execution_count": 42,
      "metadata": {
        "colab": {
          "base_uri": "https://localhost:8080/"
        },
        "id": "QLI_2u39MMf4",
        "outputId": "49f23fba-f5a3-4322-8da5-30e214314899"
      },
      "outputs": [
        {
          "data": {
            "text/plain": [
              "DataFrame[summary: string, marketplace: string, customer_id: string, review_id: string, product_id: string, product_parent: string, product_title: string, product_category: string, star_rating: string, helpful_votes: string, total_votes: string, vine: string, verified_purchase: string, review_headline: string, review_body: string, review_date: string]"
            ]
          },
          "execution_count": 42,
          "metadata": {},
          "output_type": "execute_result"
        }
      ],
      "source": [
        "df.describe()"
      ]
    },
    {
      "cell_type": "code",
      "execution_count": 43,
      "metadata": {
        "colab": {
          "base_uri": "https://localhost:8080/"
        },
        "id": "B0TESUDRY-90",
        "outputId": "7b70857d-5b4d-4e23-ab93-3ca7f962a027"
      },
      "outputs": [
        {
          "name": "stdout",
          "output_type": "stream",
          "text": [
            "+-----------+--------------+\n",
            "|customer_id|customer_count|\n",
            "+-----------+--------------+\n",
            "|   10142992|             1|\n",
            "|   16457323|             6|\n",
            "|   11935383|             1|\n",
            "|   46277736|             1|\n",
            "|   13671072|             1|\n",
            "|   21453814|             1|\n",
            "|   17684885|             1|\n",
            "|   20415768|             1|\n",
            "|   15212710|             1|\n",
            "|    5220924|             1|\n",
            "|   46253451|             6|\n",
            "|     971908|             1|\n",
            "|   32829933|             1|\n",
            "|   51221518|             1|\n",
            "|   12002637|             2|\n",
            "|   16105308|             1|\n",
            "|     135867|             1|\n",
            "|   47425808|             1|\n",
            "|   43138273|             1|\n",
            "|   16411995|             1|\n",
            "+-----------+--------------+\n",
            "only showing top 20 rows\n",
            "\n"
          ]
        }
      ],
      "source": [
        "# Create the customers_table DataFrame\n",
        "customers_df = df.groupby([\"customer_id\"]).agg({'customer_id':'count'}).withColumnRenamed(\"count(customer_id)\", \"customer_count\")\n",
        "customers_df.show()"
      ]
    },
    {
      "cell_type": "code",
      "execution_count": 44,
      "metadata": {
        "colab": {
          "base_uri": "https://localhost:8080/"
        },
        "id": "4FwXA6UvY-96",
        "outputId": "50b3ffd5-841d-4b5a-f6a8-cd88f1e0369e"
      },
      "outputs": [
        {
          "name": "stdout",
          "output_type": "stream",
          "text": [
            "+----------+--------------------+\n",
            "|product_id|       product_title|\n",
            "+----------+--------------------+\n",
            "|B00N9OT6RM|Upstar 19-Inch 72...|\n",
            "|B007R9RUPU|Kinivo LS210 Port...|\n",
            "|B00U9U9AAM|Samsung J6200, SB...|\n",
            "|B00QCLTOQM|Panasonic TC32A40...|\n",
            "|B007F9XJW0|Sony DVPFX780 7-I...|\n",
            "|B00JA7ZQOY|Minix X7mini Andr...|\n",
            "|B008I641TE|SquareTrade 2-Yea...|\n",
            "|B00EJ5UJZ8|PowerSmart 4200mA...|\n",
            "|B006L8TX94|TiVo Premiere 500...|\n",
            "|B00R8K9ZH4|Fosmon HYBO-DUOC ...|\n",
            "|B001JHJK22|Mediabridge - RCA...|\n",
            "|B00CWEJ5BW|2-Year Electronic...|\n",
            "|B000BSHLLW|Ziotek Purse Lock...|\n",
            "|B0019OJOTE|FAVI 32-Inch 1080...|\n",
            "|B00MOCT3NW|BenQ MH630 1.4A 1...|\n",
            "|B00VWV1O3S|12V 8Ah SLA Batte...|\n",
            "|B00BBAG0DY|LG Electronics LA...|\n",
            "|B00BXF7I8I|Seiki 1080p 60Hz ...|\n",
            "|B0011ZOZ36|Vizio VW26LHDTV20...|\n",
            "|B00Q8DB4YY|Atoah MXIII TV Bo...|\n",
            "+----------+--------------------+\n",
            "only showing top 20 rows\n",
            "\n"
          ]
        }
      ],
      "source": [
        "# Create the products_table DataFrame and drop duplicates. \n",
        "products_df = df.select([\"product_id\",\"product_title\"]).drop_duplicates()\n",
        "products_df.show()"
      ]
    },
    {
      "cell_type": "code",
      "execution_count": 45,
      "metadata": {
        "colab": {
          "base_uri": "https://localhost:8080/"
        },
        "id": "MkqyCuNQY-9-",
        "outputId": "c6e6234d-99b3-4a81-8d0c-6ba8d0f07c99"
      },
      "outputs": [
        {
          "name": "stdout",
          "output_type": "stream",
          "text": [
            "+--------------+-----------+----------+--------------+-----------+\n",
            "|     review_id|customer_id|product_id|product_parent|review_date|\n",
            "+--------------+-----------+----------+--------------+-----------+\n",
            "| RY01SAV7HZ8QO|     179886|B00NTI0CQ2|     667358431| 2015-08-31|\n",
            "|R1XX8SDGJ4MZ4L|   37293769|B00BUCLVZU|     621695622| 2015-08-31|\n",
            "|R149Q3B5L33NN5|    8332121|B00RBX9D5W|     143071132| 2015-08-31|\n",
            "|R2ZVD69Z6KPJ4O|   47054962|B00UJ3IULO|     567816707| 2015-08-31|\n",
            "|R1DIKG2G33ZLNP|   23413911|B0037UCTXG|     909557698| 2015-08-31|\n",
            "|R3L6FGKAW0EYFI|    4417771|B004N866SU|     414565179| 2015-08-31|\n",
            "| RAO0QZH5VC6VI|   47900707|B00JE6AOJS|     798450889| 2015-08-31|\n",
            "|R25IK0UAHWNB22|   34112894|B00COL0B7A|     777554234| 2015-08-31|\n",
            "|R2A9IHKZMTMAL1|   20691979|B00QHLSKOE|     885228855| 2015-08-31|\n",
            "| R5XVKTHL6SITI|   25983343|B00UNL2MUW|     164482798| 2015-08-31|\n",
            "|R2QZZOSTDDY1IE|   35816068|B00RIC9JB4|     184834831| 2015-08-31|\n",
            "|R38CUDCFPSNYTD|   10628020|B00HPMCO6O|     444378461| 2015-08-31|\n",
            "| RM6ZR6NH052YH|    9059625|B004QGXWS6|     770226547| 2015-08-31|\n",
            "| RUQK5N4WH8UN8|    2681147|B00FO12XY6|     448806082| 2015-08-31|\n",
            "|R21LWSBQWWJYZ3|   33449922|B00BD7UVO4|     374427271| 2015-08-31|\n",
            "| R8W5S53RQ2DF7|   43069144|B00TRQPEYK|     614207013| 2015-08-31|\n",
            "|R3ENME3JQBWXZS|   46780686|B005STXQG8|     689442799| 2015-08-31|\n",
            "|R3URL5K7DHHYK7|   49037595|B00BEL11RA|     910670994| 2015-08-31|\n",
            "|R22YISZKS35YZX|   27868511|B00QHLSKOE|     885228855| 2015-08-31|\n",
            "|R3IIOLWHWC297U|    3004043|B00MWCJ8VQ|     946374680| 2015-08-31|\n",
            "+--------------+-----------+----------+--------------+-----------+\n",
            "only showing top 20 rows\n",
            "\n"
          ]
        }
      ],
      "source": [
        "# Create the review_id_table DataFrame. \n",
        "# Convert the 'review_date' column to a date datatype with to_date(\"review_date\", 'yyyy-MM-dd').alias(\"review_date\")\n",
        "review_id_df = df.select([\"review_id\",\"customer_id\",\"product_id\",\"product_parent\", to_date(\"review_date\", 'yyyy-MM-dd').alias(\"review_date\")])\n",
        "review_id_df.show()"
      ]
    },
    {
      "cell_type": "code",
      "execution_count": 46,
      "metadata": {
        "colab": {
          "base_uri": "https://localhost:8080/"
        },
        "id": "lzMmkdKmY--D",
        "outputId": "23b44b80-07f8-4bd4-b7d1-0fd1d0472bc6"
      },
      "outputs": [
        {
          "name": "stdout",
          "output_type": "stream",
          "text": [
            "+--------------+-----------+-------------+-----------+----+-----------------+\n",
            "|     review_id|star_rating|helpful_votes|total_votes|vine|verified_purchase|\n",
            "+--------------+-----------+-------------+-----------+----+-----------------+\n",
            "| RY01SAV7HZ8QO|          4|            0|          0|   N|                Y|\n",
            "|R1XX8SDGJ4MZ4L|          5|            0|          0|   N|                N|\n",
            "|R149Q3B5L33NN5|          5|            0|          0|   N|                Y|\n",
            "|R2ZVD69Z6KPJ4O|          1|            0|          2|   N|                Y|\n",
            "|R1DIKG2G33ZLNP|          4|            0|          0|   N|                Y|\n",
            "|R3L6FGKAW0EYFI|          1|            1|          1|   N|                N|\n",
            "| RAO0QZH5VC6VI|          1|            0|          0|   N|                Y|\n",
            "|R25IK0UAHWNB22|          3|            0|          0|   N|                Y|\n",
            "|R2A9IHKZMTMAL1|          5|            1|          2|   N|                Y|\n",
            "| R5XVKTHL6SITI|          5|            0|          0|   N|                Y|\n",
            "|R2QZZOSTDDY1IE|          3|            3|          6|   N|                Y|\n",
            "|R38CUDCFPSNYTD|          5|            0|          0|   N|                Y|\n",
            "| RM6ZR6NH052YH|          3|            1|          2|   N|                Y|\n",
            "| RUQK5N4WH8UN8|          5|            0|          0|   N|                Y|\n",
            "|R21LWSBQWWJYZ3|          5|            0|          0|   N|                Y|\n",
            "| R8W5S53RQ2DF7|          5|            0|          0|   N|                Y|\n",
            "|R3ENME3JQBWXZS|          5|            0|          1|   N|                Y|\n",
            "|R3URL5K7DHHYK7|          5|            1|          1|   N|                Y|\n",
            "|R22YISZKS35YZX|          5|            2|          3|   N|                Y|\n",
            "|R3IIOLWHWC297U|          5|            0|          0|   N|                Y|\n",
            "+--------------+-----------+-------------+-----------+----+-----------------+\n",
            "only showing top 20 rows\n",
            "\n"
          ]
        }
      ],
      "source": [
        "# Create the vine_table. DataFrame\n",
        "vine_df = df.select([\"review_id\",\"star_rating\",\"helpful_votes\",\"total_votes\",\"vine\",\"verified_purchase\"])\n",
        "vine_df.show()"
      ]
    },
    {
      "cell_type": "markdown",
      "metadata": {
        "id": "jITZhLkmY--J"
      },
      "source": [
        "### Connect to the AWS RDS instance and write each DataFrame to its table. "
      ]
    },
    {
      "cell_type": "code",
      "execution_count": 51,
      "metadata": {
        "id": "7jiUvs1aY--L"
      },
      "outputs": [],
      "source": [
        "# Configure settings for RDS\n",
        "mode = \"append\"\n",
        "jdbc_url=\"jdbc:/removed/:5432/postgres\"\n",
        "config = {\"/removed/\"}"
      ]
    },
    {
      "cell_type": "code",
      "execution_count": 52,
      "metadata": {
        "id": "T2zgZ-aKY--Q"
      },
      "outputs": [],
      "source": [
        "# Write review_id_df to table in RDS\n",
        "review_id_df.write.jdbc(url=jdbc_url, table='review_id_table', mode=mode, properties=config)"
      ]
    },
    {
      "cell_type": "code",
      "execution_count": 53,
      "metadata": {
        "id": "1m3yzn-LY--U"
      },
      "outputs": [],
      "source": [
        "# Write products_df to table in RDS\n",
        "# about 3 min\n",
        "products_df.write.jdbc(url=jdbc_url, table='products_table', mode=mode, properties=config)"
      ]
    },
    {
      "cell_type": "code",
      "execution_count": 54,
      "metadata": {
        "id": "KbXri15fY--Z"
      },
      "outputs": [],
      "source": [
        "# Write customers_df to table in RDS\n",
        "# 5 min 14 s\n",
        "customers_df.write.jdbc(url=jdbc_url, table='customers_table', mode=mode, properties=config)"
      ]
    },
    {
      "cell_type": "code",
      "execution_count": 55,
      "metadata": {
        "id": "XdQknSHLY--e"
      },
      "outputs": [],
      "source": [
        "# Write vine_df to table in RDS\n",
        "# 11 minutes\n",
        "vine_df.write.jdbc(url=jdbc_url, table='vine_table', mode=mode, properties=config)"
      ]
    },
    {
      "cell_type": "code",
      "execution_count": null,
      "metadata": {
        "id": "Exuo6ebUsCqW"
      },
      "outputs": [],
      "source": []
    }
  ],
  "metadata": {
    "colab": {
      "collapsed_sections": [],
      "name": "Amazon_Reviews_ETL.ipynb",
      "provenance": []
    },
    "kernelspec": {
      "display_name": "Python 3",
      "name": "python3"
    },
    "language_info": {
      "name": "python"
    },
    "nteract": {
      "version": "0.12.3"
    }
  },
  "nbformat": 4,
  "nbformat_minor": 0
}
